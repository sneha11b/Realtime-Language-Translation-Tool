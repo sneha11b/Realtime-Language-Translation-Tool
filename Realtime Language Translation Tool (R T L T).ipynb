{
 "cells": [
  {
   "cell_type": "code",
   "execution_count": null,
   "id": "e0cf3e1a",
   "metadata": {},
   "outputs": [],
   "source": [
    "import tkinter as tk\n",
    "from tkinter import ttk\n",
    "from tkinter import Text, Entry, Button, Label, WORD, END\n",
    "from googletrans import Translator, LANGUAGES"
   ]
  },
  {
   "cell_type": "code",
   "execution_count": null,
   "id": "e376db42",
   "metadata": {},
   "outputs": [],
   "source": [
    "class LanguageTranslatorApp:\n",
    "    def __init__(self, root):\n",
    "        self.root = root\n",
    "        self.root.title(\"Real-Time Language Translator\")\n",
    "        self.root.geometry(\"1100x520\")\n",
    "        self.root.resizable(0, 0)\n",
    "        self.root['bg'] = 'skyblue'\n",
    "\n",
    "        Label(root, text=\"Language Translator\", font=\"Verdana 20 bold italic\").pack()\n",
    "\n",
    "        Label(root, text=\"Enter Sentence\", font='Verdana 20 bold', bg='sky blue').place(x=165, y=35)\n",
    "        self.input_text = Entry(root, width=40)\n",
    "        self.input_text.place(x=30, y=100)\n",
    "\n",
    "        Label(root, text=\"Output\", font='Verdana 20 bold', bg='skyblue').place(x=780, y=90)\n",
    "        self.output_text = Text(root, font='Verdana 13', height=11, wrap=WORD, padx=2, pady=2, width=40)\n",
    "        self.output_text.place(x=600, y=180)\n",
    "\n",
    "        language = list(LANGUAGES.values())\n",
    "        self.dest_lang = ttk.Combobox(root, values=language, width=25)\n",
    "        self.dest_lang.place(x=130, y=180)\n",
    "        self.dest_lang.set(\"Choose language\")\n",
    "\n",
    "        self.translator = Translator()\n",
    "\n",
    "        self.translate_button = Button(root, text='Translate', font='arial 12 bold', pady=5, command=self.translate,\n",
    "                                       bg='orange')\n",
    "        self.translate_button.place(x=445, y=180)\n",
    "\n",
    "\n",
    "    def translate(self):\n",
    "        dest_lang = self.dest_lang.get()\n",
    "        text_to_translate = self.input_text.get()\n",
    "\n",
    "        try:\n",
    "            translation = self.translator.translate(text_to_translate, dest=dest_lang)\n",
    "            translated_text = translation.text\n",
    "            self.output_text.delete(1.0, END)\n",
    "            self.output_text.insert(END, translated_text)\n",
    "        except Exception as e:\n",
    "            print(f\"Translation error: {e}\")\n",
    "\n",
    "\n",
    "if __name__ == \"__main__\":\n",
    "    root = tk.Tk()\n",
    "    app = LanguageTranslatorApp(root)\n",
    "    root.mainloop()\n"
   ]
  },
  {
   "cell_type": "code",
   "execution_count": null,
   "id": "2dc08ba5",
   "metadata": {},
   "outputs": [],
   "source": []
  },
  {
   "cell_type": "code",
   "execution_count": null,
   "id": "2650d273",
   "metadata": {},
   "outputs": [],
   "source": []
  }
 ],
 "metadata": {
  "kernelspec": {
   "display_name": "Python 3 (ipykernel)",
   "language": "python",
   "name": "python3"
  },
  "language_info": {
   "codemirror_mode": {
    "name": "ipython",
    "version": 3
   },
   "file_extension": ".py",
   "mimetype": "text/x-python",
   "name": "python",
   "nbconvert_exporter": "python",
   "pygments_lexer": "ipython3",
   "version": "3.9.12"
  }
 },
 "nbformat": 4,
 "nbformat_minor": 5
}
